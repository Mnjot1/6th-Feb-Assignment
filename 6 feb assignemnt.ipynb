{
 "cells": [
  {
   "cell_type": "markdown",
   "id": "de165b97-9950-4d4a-bc3f-111547936104",
   "metadata": {},
   "source": [
    "## Assignment Feb 6"
   ]
  },
  {
   "cell_type": "code",
   "execution_count": 44,
   "id": "b1d609c4-16f1-4105-ba5e-070b1b437e03",
   "metadata": {},
   "outputs": [
    {
     "data": {
      "text/plain": [
       "'\\nQ1. Create a function which will take a list as an argument and return the product of all the numbers\\nafter creating a flat list.\\nUse the below-given list as an argument for your function.\\nlist1 = [1,2,3,4, [44,55,66, True], False, (34,56,78,89,34), {1,2,3,3,2,1}, {1:34, \"key2\": [55, 67, 78, 89], 4: (45,\\n22, 61, 34)}, [56, \\'data science\\'], \\'Machine Learning\\']\\nNote: you must extract numeric keys and values of the dictionary also.\\n'"
      ]
     },
     "execution_count": 44,
     "metadata": {},
     "output_type": "execute_result"
    }
   ],
   "source": [
    "\"\"\"\n",
    "Q1. Create a function which will take a list as an argument and return the product of all the numbers\n",
    "after creating a flat list.\n",
    "Use the below-given list as an argument for your function.\n",
    "list1 = [1,2,3,4, [44,55,66, True], False, (34,56,78,89,34), {1,2,3,3,2,1}, {1:34, \"key2\": [55, 67, 78, 89], 4: (45,\n",
    "22, 61, 34)}, [56, 'data science'], 'Machine Learning']\n",
    "Note: you must extract numeric keys and values of the dictionary also.\n",
    "\"\"\""
   ]
  },
  {
   "cell_type": "code",
   "execution_count": 1,
   "id": "59a8b0a2-1e35-41bd-a683-720c3a629096",
   "metadata": {},
   "outputs": [],
   "source": [
    "list1 = [1,2,3,4, [44,55,66, True], False, (34,56,78,89,34), {1,2,3,3,2,1}, {1:34, \"key2\": [55, 67, 78, 89], 4: (45,\n",
    "22, 61, 34)}, [56, 'data science'], 'Machine Learning']"
   ]
  },
  {
   "cell_type": "code",
   "execution_count": 34,
   "id": "62d4a8aa-d39b-418c-8a4f-e40a84827fcc",
   "metadata": {},
   "outputs": [],
   "source": [
    "def Product(l):\n",
    "    flat_list=[]\n",
    "    product=1\n",
    "    for i in l:   ## I inside whole list \n",
    "            if type(i)==list or type(i)==set or type(i)==tuple:  # if there is nested list, tuple, set inside list  \n",
    "                for j in i:  # it will iterate through everything \n",
    "                    if type(j)==int:  ## if it is int it will update with flat_list\n",
    "                        flat_list.append(j)\n",
    "            elif type(i)==dict:        ## if type is dict\n",
    "                 for key, value in i.items(): # using for loop and using unreverse keyword to depict the key and value\n",
    "                    if type(key)==int:   ## if key is int it will update \n",
    "                          flat_list.append(key)\n",
    "                    if type(value)==int:  ## if value is int it will update\n",
    "                          flat_list.append(value)\n",
    "                    elif type(value)==list or type(value)==tuple: ## if the value is in form on list or tuple\n",
    "                        for m in value:  ## this will iterate in tuple or list present in value \n",
    "                             if type(m)==int:  ## if value in the form of tuple or list is int it will update flat_list\n",
    "                                    new_list.append(m)\n",
    "            elif type(i)==int:  ## other elements meanwhile the proper list will update with only int \n",
    "                  flat_list.append(i) ## and update with flat_list\n",
    "        \n",
    "    for pro in flat_list:  # once flat_list is update now, here it will iterate over the flat_list\n",
    "        product*=pro      # after every iteration it will multiply by each one and store in product\n",
    "    return product        ## product will be return "
   ]
  },
  {
   "cell_type": "code",
   "execution_count": 27,
   "id": "9765aee1-3c5b-42f8-b9c8-be87cea45f4c",
   "metadata": {},
   "outputs": [
    {
     "data": {
      "text/plain": [
       "4134711838987085478833841242112000"
      ]
     },
     "execution_count": 27,
     "metadata": {},
     "output_type": "execute_result"
    }
   ],
   "source": [
    "Product(list1)"
   ]
  },
  {
   "cell_type": "code",
   "execution_count": null,
   "id": "d5fc646b-f83b-42e8-b25e-b05eeac3d2d8",
   "metadata": {},
   "outputs": [],
   "source": []
  },
  {
   "cell_type": "code",
   "execution_count": 35,
   "id": "6243fb2c-a6b4-470e-9bc0-cdb463268b46",
   "metadata": {},
   "outputs": [
    {
     "data": {
      "text/plain": [
       "'\\nQ2. Write a python program for encrypting a message sent to you by your friend. The logic of encryption\\nshould be such that, for a the output should be z. For b, the output should be y. For c, the output should\\nbe x respectively. Also, the whitespace should be replaced with a dollar sign. Keep the punctuation\\nmarks unchanged.\\nInput Sentence: I want to become a Data Scientist.\\nEncrypt the above input sentence using the program you just created.\\nNote: Convert the given input sentence into lowercase before encrypting. The final output should be\\nlowercase.\\n'"
      ]
     },
     "execution_count": 35,
     "metadata": {},
     "output_type": "execute_result"
    }
   ],
   "source": [
    "\"\"\"\n",
    "Q2. Write a python program for encrypting a message sent to you by your friend. The logic of encryption\n",
    "should be such that, for a the output should be z. For b, the output should be y. For c, the output should\n",
    "be x respectively. Also, the whitespace should be replaced with a dollar sign. Keep the punctuation\n",
    "marks unchanged.\n",
    "Input Sentence: I want to become a Data Scientist.\n",
    "Encrypt the above input sentence using the program you just created.\n",
    "Note: Convert the given input sentence into lowercase before encrypting. The final output should be\n",
    "lowercase.\n",
    "\"\"\""
   ]
  },
  {
   "cell_type": "code",
   "execution_count": 2,
   "id": "fe625156-7a40-47ec-89fa-b2d54c710ea6",
   "metadata": {},
   "outputs": [
    {
     "data": {
      "text/plain": [
       "'i$wznt$to$yexome$z$dztz$sxientist.'"
      ]
     },
     "execution_count": 2,
     "metadata": {},
     "output_type": "execute_result"
    }
   ],
   "source": [
    "string=\"I want to become a Data Scientist.\"\n",
    "new_string=string.replace(\"a\",\"z\").replace(\"b\",\"y\").replace(\"c\",\"x\").replace(\" \",\"$\")\n",
    "new_string.lower()\n",
    "\n"
   ]
  },
  {
   "cell_type": "code",
   "execution_count": null,
   "id": "e7b9c768-96ba-45f5-be56-8529ede3d915",
   "metadata": {},
   "outputs": [],
   "source": []
  }
 ],
 "metadata": {
  "kernelspec": {
   "display_name": "Python 3 (ipykernel)",
   "language": "python",
   "name": "python3"
  },
  "language_info": {
   "codemirror_mode": {
    "name": "ipython",
    "version": 3
   },
   "file_extension": ".py",
   "mimetype": "text/x-python",
   "name": "python",
   "nbconvert_exporter": "python",
   "pygments_lexer": "ipython3",
   "version": "3.10.8"
  }
 },
 "nbformat": 4,
 "nbformat_minor": 5
}
